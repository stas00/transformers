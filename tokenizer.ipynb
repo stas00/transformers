{
 "cells": [
  {
   "cell_type": "markdown",
   "metadata": {},
   "source": [
    "# Tokenizer Dev"
   ]
  },
  {
   "cell_type": "code",
   "execution_count": 1,
   "metadata": {},
   "outputs": [],
   "source": [
    "%load_ext autoreload\n",
    "%autoreload 2"
   ]
  },
  {
   "cell_type": "code",
   "execution_count": 34,
   "metadata": {},
   "outputs": [],
   "source": [
    "import os, sys\n",
    "sys.path.insert(0, f\"{os.getcwd()}/src\")"
   ]
  },
  {
   "cell_type": "code",
   "execution_count": 127,
   "metadata": {},
   "outputs": [],
   "source": [
    "import torch\n",
    "from pprint import pprint"
   ]
  },
  {
   "cell_type": "code",
   "execution_count": 123,
   "metadata": {},
   "outputs": [],
   "source": [
    "sentence = \"Машинное обучение - это здорово! Ты молодец.\"\n",
    "sentence_0 = \"Машинное обучение - это здорово!\"\n",
    "sentence_1 = \"Ты молодец.\""
   ]
  },
  {
   "cell_type": "markdown",
   "metadata": {},
   "source": [
    "# Baseline"
   ]
  },
  {
   "cell_type": "code",
   "execution_count": 85,
   "metadata": {},
   "outputs": [
    {
     "name": "stderr",
     "output_type": "stream",
     "text": [
      "Using cache found in /home/stas/.cache/torch/hub/pytorch_fairseq_master\n"
     ]
    }
   ],
   "source": [
    "#checkpoint_file='model1.pt:model2.pt:model3.pt:model4.pt'\n",
    "checkpoint_file='model1.pt'\n",
    "ru2en = torch.hub.load('pytorch/fairseq', 'transformer.wmt19.ru-en', checkpoint_file=checkpoint_file, tokenizer='moses', bpe='fastbpe')"
   ]
  },
  {
   "cell_type": "code",
   "execution_count": 110,
   "metadata": {},
   "outputs": [
    {
     "data": {
      "text/plain": [
       "(46, 'Машинное обучение - это здорово ! Ты молодец .')"
      ]
     },
     "execution_count": 110,
     "metadata": {},
     "output_type": "execute_result"
    },
    {
     "data": {
      "text/plain": [
       "(12, ['Ма@@', 'шин@@', 'ное', 'обучение', '-', 'это', 'здорово', '!', 'Ты', 'моло@@', 'дец', '.'])"
      ]
     },
     "execution_count": 110,
     "metadata": {},
     "output_type": "execute_result"
    },
    {
     "data": {
      "text/plain": [
       "(13, tensor([  648, 13440,    97,  3618,    25,    74, 22548,   384, 10994,  7178,\n",
       "        21731,     5,     2]))"
      ]
     },
     "execution_count": 110,
     "metadata": {},
     "output_type": "execute_result"
    },
    {
     "data": {
      "text/plain": [
       "tensor([  648, 13440,    97,  3618,    25,    74, 22548,   384, 10994,  7178,\n",
       "        21731,     5,     2])"
      ]
     },
     "execution_count": 110,
     "metadata": {},
     "output_type": "execute_result"
    }
   ],
   "source": [
    "tokens = ru2en.tokenize(sentence)\n",
    "bpe = ru2en.apply_bpe(tokens)\n",
    "bpe_str = str(bpe).split()\n",
    "bin = ru2en.binarize(bpe)\n",
    "len(tokens), tokens\n",
    "len(bpe_str), bpe_str\n",
    "len(bin), bin\n",
    "expected = ru2en.encode(sentence)\n",
    "expected"
   ]
  },
  {
   "cell_type": "markdown",
   "metadata": {},
   "source": [
    "# Target"
   ]
  },
  {
   "cell_type": "code",
   "execution_count": 111,
   "metadata": {},
   "outputs": [],
   "source": [
    "from transformers.tokenization_fs_translator import FairseqTranslatorTokenizer"
   ]
  },
  {
   "cell_type": "code",
   "execution_count": 112,
   "metadata": {},
   "outputs": [
    {
     "name": "stderr",
     "output_type": "stream",
     "text": [
      "Special tokens have been added in the vocabulary, make sure the associated word emebedding are fine-tuned or trained.\n"
     ]
    }
   ],
   "source": [
    "tokenizer = FairseqTranslatorTokenizer.from_pretrained('fairseq-translator-wmt19-ru-en')"
   ]
  },
  {
   "cell_type": "code",
   "execution_count": 118,
   "metadata": {},
   "outputs": [
    {
     "data": {
      "text/plain": [
       "(12, ['Ма', 'шин', 'ное</w>', 'обучение</w>', '-</w>', 'это</w>', 'здорово</w>', '!</w>', 'Ты</w>', 'моло', 'дец</w>', '.</w>'])"
      ]
     },
     "execution_count": 118,
     "metadata": {},
     "output_type": "execute_result"
    },
    {
     "data": {
      "text/plain": [
       "(13, [648, 13440, 97, 3618, 25, 74, 22548, 384, 10994, 7178, 21731, 5, 2])"
      ]
     },
     "execution_count": 118,
     "metadata": {},
     "output_type": "execute_result"
    }
   ],
   "source": [
    "tokens = tokenizer.tokenize(sentence)\n",
    "input_ids = tokenizer(sentence)['input_ids']\n",
    "len(tokens), tokens\n",
    "len(input_ids), input_ids\n",
    "#tokenizer._convert_id_to_token(31232)"
   ]
  },
  {
   "cell_type": "code",
   "execution_count": 121,
   "metadata": {},
   "outputs": [],
   "source": [
    "from numpy.testing import assert_array_equal\n",
    "assert_array_equal(expected.numpy(), input_ids, \"did we get it right?\")"
   ]
  },
  {
   "cell_type": "code",
   "execution_count": null,
   "metadata": {},
   "outputs": [],
   "source": []
  },
  {
   "cell_type": "markdown",
   "metadata": {},
   "source": [
    "# 2 sequences"
   ]
  },
  {
   "cell_type": "code",
   "execution_count": 130,
   "metadata": {},
   "outputs": [
    {
     "name": "stdout",
     "output_type": "stream",
     "text": [
      "{'attention_mask': [1, 1, 1, 1, 1, 1, 1, 1, 1, 1, 1, 1, 1, 1],\n",
      " 'input_ids': [648,\n",
      "               13440,\n",
      "               97,\n",
      "               3618,\n",
      "               25,\n",
      "               74,\n",
      "               22548,\n",
      "               384,\n",
      "               2,\n",
      "               10994,\n",
      "               7178,\n",
      "               21731,\n",
      "               5,\n",
      "               2],\n",
      " 'token_type_ids': [0, 0, 0, 0, 0, 0, 0, 0, 0, 1, 1, 1, 1, 1]}\n",
      "input_ids: 14\n",
      "token_type_ids: 14\n",
      "attention_mask: 14\n"
     ]
    }
   ],
   "source": [
    "enc = tokenizer.encode_plus(sentence_0, sentence_1, add_special_tokens=True)\n",
    "pprint(enc)\n",
    "for k in enc.keys(): print(f\"{k}: {len(enc[k])}\")\n"
   ]
  },
  {
   "cell_type": "code",
   "execution_count": null,
   "metadata": {},
   "outputs": [],
   "source": []
  },
  {
   "cell_type": "code",
   "execution_count": 131,
   "metadata": {},
   "outputs": [
    {
     "data": {
      "text/plain": [
       "'Success!!!'"
      ]
     },
     "execution_count": 131,
     "metadata": {},
     "output_type": "execute_result"
    }
   ],
   "source": [
    "\"Success!!!\""
   ]
  },
  {
   "cell_type": "code",
   "execution_count": null,
   "metadata": {},
   "outputs": [],
   "source": []
  },
  {
   "cell_type": "code",
   "execution_count": null,
   "metadata": {},
   "outputs": [],
   "source": []
  }
 ],
 "metadata": {
  "hide_input": false,
  "kernelspec": {
   "display_name": "Python 3",
   "language": "python",
   "name": "python3"
  },
  "language_info": {
   "codemirror_mode": {
    "name": "ipython",
    "version": 3
   },
   "file_extension": ".py",
   "mimetype": "text/x-python",
   "name": "python",
   "nbconvert_exporter": "python",
   "pygments_lexer": "ipython3",
   "version": "3.7.5"
  },
  "toc": {
   "base_numbering": 1,
   "nav_menu": {},
   "number_sections": true,
   "sideBar": true,
   "skip_h1_title": false,
   "title_cell": "Table of Contents",
   "title_sidebar": "Contents",
   "toc_cell": false,
   "toc_position": {},
   "toc_section_display": true,
   "toc_window_display": true
  }
 },
 "nbformat": 4,
 "nbformat_minor": 4
}
