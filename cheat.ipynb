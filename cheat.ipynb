{
 "cells": [
  {
   "cell_type": "code",
   "execution_count": null,
   "metadata": {},
   "outputs": [],
   "source": [
    "# Cheat"
   ]
  },
  {
   "cell_type": "code",
   "execution_count": 38,
   "metadata": {},
   "outputs": [],
   "source": [
    "import torch\n",
    "\n",
    "class FairseqProxy():\n",
    "    def __init__(self, module):\n",
    "        self.module = module\n",
    "        \n",
    "    @classmethod\n",
    "    def from_pretrained(cls, mname): \n",
    "        return cls(module=torch.hub.load('pytorch/fairseq', mname, checkpoint_file='model1.pt:model2.pt:model3.pt:model4.pt', tokenizer='moses', bpe='fastbpe'))\n",
    "\n",
    "class FairseqTranslator(FairseqProxy):\n",
    "    \n",
    "    def generate(self, **tokenized_sentences):\n",
    "        return self.module.generate(tokenized_sentences['data'])\n",
    "    \n",
    "class FairseqBPETokenizer(FairseqProxy):\n",
    "\n",
    "    def prepare_seq2seq_batch(self, sentences): # encode\n",
    "        return {'data': [self.module.encode(sentence) for sentence in sentences]}\n",
    "    \n",
    "    def batch_decode(self, batched_hypos):\n",
    "        return [self.module.decode(hypos[0]['tokens']) for hypos in batched_hypos]"
   ]
  },
  {
   "cell_type": "code",
   "execution_count": null,
   "metadata": {},
   "outputs": [],
   "source": []
  },
  {
   "cell_type": "code",
   "execution_count": 39,
   "metadata": {},
   "outputs": [
    {
     "name": "stderr",
     "output_type": "stream",
     "text": [
      "Using cache found in /home/stas/.cache/torch/hub/pytorch_fairseq_master\n",
      "Using cache found in /home/stas/.cache/torch/hub/pytorch_fairseq_master\n"
     ]
    }
   ],
   "source": [
    "mname = 'transformer.wmt19.ru-en'\n",
    "model = FairseqTranslator.from_pretrained(mname)\n",
    "tokenizer = FairseqBPETokenizer.from_pretrained(mname)  # AutoTokenizer should also work\n",
    "batch = tokenizer.prepare_seq2seq_batch([\"Машинное обучение - это здорово!\"])\n",
    "translated = model.generate(**batch) # determine \n",
    "assert tokenizer.batch_decode(translated)[0] == 'Machine learning is great!'"
   ]
  },
  {
   "cell_type": "code",
   "execution_count": null,
   "metadata": {},
   "outputs": [],
   "source": []
  },
  {
   "cell_type": "code",
   "execution_count": null,
   "metadata": {},
   "outputs": [],
   "source": []
  },
  {
   "cell_type": "code",
   "execution_count": 40,
   "metadata": {},
   "outputs": [
    {
     "name": "stdout",
     "output_type": "stream",
     "text": [
      "1\n"
     ]
    }
   ],
   "source": [
    "def test(**a): print(a['a'])\n",
    "test(a=1)"
   ]
  }
 ],
 "metadata": {
  "hide_input": false,
  "kernelspec": {
   "display_name": "Python 3",
   "language": "python",
   "name": "python3"
  },
  "language_info": {
   "codemirror_mode": {
    "name": "ipython",
    "version": 3
   },
   "file_extension": ".py",
   "mimetype": "text/x-python",
   "name": "python",
   "nbconvert_exporter": "python",
   "pygments_lexer": "ipython3",
   "version": "3.7.5"
  },
  "toc": {
   "base_numbering": 1,
   "nav_menu": {},
   "number_sections": true,
   "sideBar": true,
   "skip_h1_title": false,
   "title_cell": "Table of Contents",
   "title_sidebar": "Contents",
   "toc_cell": false,
   "toc_position": {},
   "toc_section_display": true,
   "toc_window_display": true
  }
 },
 "nbformat": 4,
 "nbformat_minor": 4
}
